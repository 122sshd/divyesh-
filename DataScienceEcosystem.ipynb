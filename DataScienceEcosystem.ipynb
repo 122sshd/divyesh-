{
 "cells": [
  {
   "cell_type": "markdown",
   "id": "b8ffd863-0b73-4e57-904e-7dd05d074db6",
   "metadata": {
    "tags": []
   },
   "source": [
    "# Data Science Tools and Ecosystem"
   ]
  },
  {
   "cell_type": "markdown",
   "id": "7e48c9d4-2d23-48b8-98f0-bf3cf81c15d1",
   "metadata": {},
   "source": [
    "# In this notebook, Data Science Tools and Ecosystem are summarized."
   ]
  },
  {
   "cell_type": "markdown",
   "id": "1ae19b88-9d9e-4015-8f2d-f6391b92a7e8",
   "metadata": {
    "tags": []
   },
   "source": [
    "# Some of the popular languages that Data Scientists use are:\n",
    "1. PYTHON\n",
    "2. SQL\n",
    "3. JAVASCRIPT"
   ]
  },
  {
   "cell_type": "markdown",
   "id": "691b3739-f15b-4cb0-9848-161d290d7697",
   "metadata": {},
   "source": [
    "# Some of the commonly used libraries used by Data Scientists include:\n",
    "## 1.PANDAS\n",
    "## 2.NumPy\n",
    "## 3.MatPLotlib"
   ]
  },
  {
   "cell_type": "markdown",
   "id": "961fcc4b-9975-4e71-903b-9283c50e5700",
   "metadata": {},
   "source": [
    "#  Data Science Tools \n",
    "\n",
    "## RSrudio\n",
    "## Apache Spark\n",
    "## Tensor Flow"
   ]
  },
  {
   "cell_type": "markdown",
   "id": "24907b32-04ec-4204-bbd4-370610a5f2d8",
   "metadata": {},
   "source": [
    "### Below are a few examples of evaluating arithmetic expressions in Python\n",
    "#### Evaluate a simple expression\n",
    "eval(\"2 + 3\")  # Output: 5\n",
    "\n",
    "#### Evaluate an expression with parentheses\n",
    "eval(\"(2 + 3) * 4\")  # Output: 20\n",
    "\n",
    "#### Evaluate an expression with mixed operators\n",
    "eval(\"2 + 3 * 4\")  # Output: 14"
   ]
  },
  {
   "cell_type": "markdown",
   "id": "13f9f8c4-0d4a-4f47-ac7d-192dd42186df",
   "metadata": {},
   "source": [
    "## This a simple arithmetic expression to mutiply then add integers"
   ]
  },
  {
   "cell_type": "code",
   "execution_count": 6,
   "id": "db0ee49d-dcbf-4272-8003-0b67b2fdc874",
   "metadata": {
    "tags": []
   },
   "outputs": [
    {
     "data": {
      "text/plain": [
       "17"
      ]
     },
     "execution_count": 6,
     "metadata": {},
     "output_type": "execute_result"
    }
   ],
   "source": [
    "eval(\"3*4\")+5"
   ]
  },
  {
   "cell_type": "markdown",
   "id": "f9e823af-6951-40cb-9f6b-0872721d992e",
   "metadata": {},
   "source": [
    "## This will convert 200 minutes to hours by diving by 60"
   ]
  },
  {
   "cell_type": "code",
   "execution_count": 7,
   "id": "ac768c44-e669-4260-9d9a-8eba3bfe987a",
   "metadata": {
    "tags": []
   },
   "outputs": [
    {
     "name": "stdout",
     "output_type": "stream",
     "text": [
      "3\n"
     ]
    }
   ],
   "source": [
    "import math\n",
    "\n",
    "minutes = 200\n",
    "\n",
    "hours = math.floor(minutes / 60)\n",
    "\n",
    "print(hours)"
   ]
  },
  {
   "cell_type": "markdown",
   "id": "7d51a8fa-817b-4178-b872-f7e40a48922d",
   "metadata": {},
   "source": [
    "## objectives\n",
    "### -.simple airthmetic expressions in python\n",
    "### -.conversion from minutes into hours\n",
    "### -.how to use markdown "
   ]
  },
  {
   "cell_type": "markdown",
   "id": "bc91f7db-fd0e-4bea-ad33-a5a76d9e838f",
   "metadata": {},
   "source": [
    "## author \n",
    "### divyesh yadav"
   ]
  },
  {
   "cell_type": "code",
   "execution_count": null,
   "id": "cae01dbc-d273-47bd-bbca-31f9dbfcded2",
   "metadata": {},
   "outputs": [],
   "source": []
  }
 ],
 "metadata": {
  "kernelspec": {
   "display_name": "Python",
   "language": "python",
   "name": "conda-env-python-py"
  },
  "language_info": {
   "codemirror_mode": {
    "name": "ipython",
    "version": 3
   },
   "file_extension": ".py",
   "mimetype": "text/x-python",
   "name": "python",
   "nbconvert_exporter": "python",
   "pygments_lexer": "ipython3",
   "version": "3.7.12"
  }
 },
 "nbformat": 4,
 "nbformat_minor": 5
}
